{
 "cells": [
  {
   "cell_type": "code",
   "execution_count": null,
   "id": "e2e9a9da",
   "metadata": {},
   "outputs": [],
   "source": [
    "def generate_description(table_name, columns, sample_data):\n",
    "    all_descriptions = {}\n",
    "    for column in columns:\n",
    "        column_name = list(column.keys())[0]\n",
    "        column_type = column[column_name]\n",
    "        prompt = f\"Table: {table_name}, Column: {column_name}, Type: {column_type}, Sample Data: {sample_data}\"\n",
    "        # Assuming an LLM agent function call here, replace with your actual LLM agent call\n",
    "        description = call_llm_agent(prompt)  # Placeholder for your LLM agent function\n",
    "        if table_name not in all_descriptions:\n",
    "            all_descriptions[table_name] = {}\n",
    "        all_descriptions[table_name][column_name] = description\n",
    "    return all_descriptions\n",
    "\n",
    "def call_llm_agent(prompt):\n",
    "    # Placeholder for your LLM agent function that processes the prompt and returns a description\n",
    "    # Replace this with your actual LLM agent implementation\n",
    "    return f\"Description for {prompt.split(',')[1].strip()} based on provided sample data.\"\n",
    "\n",
    "# Example usage with the provided schema\n",
    "schema = {\n",
    "    \"movie\": {\n",
    "        \"columns\": [\n",
    "            {\"available_globally\": \"NUMERIC\"},\n",
    "            {\"id\": \"INTEGER\"},\n",
    "            {\"runtime\": \"INTEGER\"},\n",
    "            {\"locale\": \"TEXT\"},\n",
    "            {\"original_title\": \"TEXT\"},\n",
    "            {\"title\": \"TEXT\"},\n",
    "            {\"release_date\": \"TEXT\"},\n",
    "            {\"created_date\": \"TEXT\"},\n",
    "            {\"modified_date\": \"TEXT\"}\n",
    "        ],\n",
    "        \"sample\": [\n",
    "            {\"available_globally\": 1, \"id\": 1, \"runtime\": 110, \"locale\": None, \"original_title\": None, \"title\": \"Damsel\", \"release_date\": \"2024-03-08 13:30:00\", \"created_date\": \"2024-01-01 05:30:00\", \"modified_date\": \"2024-01-01 05:30:00\"},\n",
    "            {\"available_globally\": 1, \"id\": 2, \"runtime\": 107, \"locale\": None, \"original_title\": None, \"title\": \"Lift\", \"release_date\": \"2024-01-12 13:30:00\", \"created_date\": \"2024-01-01 05:30:00\", \"modified_date\": \"2024-01-01 05:30:00\"},\n",
    "        ]\n",
    "    }\n",
    "}\n",
    "\n",
    "# Process each table in the schema\n",
    "all_descriptions = {}\n",
    "for table_name, details in schema.items():\n",
    "    all_descriptions[table_name] = generate_description(table_name, details[\"columns\"], details[\"sample\"])\n",
    "\n",
    "# Save descriptions to a file (example with JSON format)\n",
    "import json\n",
    "with open(f\"{table_name}_descriptions.json\", \"w\") as f:\n",
    "    json.dump(all_descriptions, f, indent=4)"
   ]
  }
 ],
 "metadata": {
  "language_info": {
   "name": "python"
  }
 },
 "nbformat": 4,
 "nbformat_minor": 5
}
